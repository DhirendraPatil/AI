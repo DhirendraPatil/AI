{
  "nbformat": 4,
  "nbformat_minor": 0,
  "metadata": {
    "colab": {
      "provenance": [],
      "authorship_tag": "ABX9TyOFexdwgshNFN6HDObwrurP",
      "include_colab_link": true
    },
    "kernelspec": {
      "name": "python3",
      "display_name": "Python 3"
    },
    "language_info": {
      "name": "python"
    },
    "widgets": {
      "application/vnd.jupyter.widget-state+json": {
        "14c3fe89e84043bca11dd93b95a234cf": {
          "model_module": "@jupyter-widgets/controls",
          "model_name": "HBoxModel",
          "model_module_version": "1.5.0",
          "state": {
            "_dom_classes": [],
            "_model_module": "@jupyter-widgets/controls",
            "_model_module_version": "1.5.0",
            "_model_name": "HBoxModel",
            "_view_count": null,
            "_view_module": "@jupyter-widgets/controls",
            "_view_module_version": "1.5.0",
            "_view_name": "HBoxView",
            "box_style": "",
            "children": [
              "IPY_MODEL_33cbf5dc49684cd38975577db292b12c",
              "IPY_MODEL_f757213cead3486aa39f41cc0f384742",
              "IPY_MODEL_224b04369ada4e5d98814aff11b85862"
            ],
            "layout": "IPY_MODEL_dd0a0ff4b47c4c49955921a7522b8df7"
          }
        },
        "33cbf5dc49684cd38975577db292b12c": {
          "model_module": "@jupyter-widgets/controls",
          "model_name": "HTMLModel",
          "model_module_version": "1.5.0",
          "state": {
            "_dom_classes": [],
            "_model_module": "@jupyter-widgets/controls",
            "_model_module_version": "1.5.0",
            "_model_name": "HTMLModel",
            "_view_count": null,
            "_view_module": "@jupyter-widgets/controls",
            "_view_module_version": "1.5.0",
            "_view_name": "HTMLView",
            "description": "",
            "description_tooltip": null,
            "layout": "IPY_MODEL_0a583a5957b64478a2a7c985fe8b9af1",
            "placeholder": "​",
            "style": "IPY_MODEL_fb1379f3870d472e8bc3ff89771cd409",
            "value": "Downloading readme: 100%"
          }
        },
        "f757213cead3486aa39f41cc0f384742": {
          "model_module": "@jupyter-widgets/controls",
          "model_name": "FloatProgressModel",
          "model_module_version": "1.5.0",
          "state": {
            "_dom_classes": [],
            "_model_module": "@jupyter-widgets/controls",
            "_model_module_version": "1.5.0",
            "_model_name": "FloatProgressModel",
            "_view_count": null,
            "_view_module": "@jupyter-widgets/controls",
            "_view_module_version": "1.5.0",
            "_view_name": "ProgressView",
            "bar_style": "success",
            "description": "",
            "description_tooltip": null,
            "layout": "IPY_MODEL_e68db8ed38bc472c8d9961672389b8a3",
            "max": 471,
            "min": 0,
            "orientation": "horizontal",
            "style": "IPY_MODEL_d364734273214ff5892579eab5028333",
            "value": 471
          }
        },
        "224b04369ada4e5d98814aff11b85862": {
          "model_module": "@jupyter-widgets/controls",
          "model_name": "HTMLModel",
          "model_module_version": "1.5.0",
          "state": {
            "_dom_classes": [],
            "_model_module": "@jupyter-widgets/controls",
            "_model_module_version": "1.5.0",
            "_model_name": "HTMLModel",
            "_view_count": null,
            "_view_module": "@jupyter-widgets/controls",
            "_view_module_version": "1.5.0",
            "_view_name": "HTMLView",
            "description": "",
            "description_tooltip": null,
            "layout": "IPY_MODEL_f3fa51ef3f5a4e81b4ffd7f8a4296c60",
            "placeholder": "​",
            "style": "IPY_MODEL_04e5b388fd114f028d22c2927a7b74a4",
            "value": " 471/471 [00:00&lt;00:00, 21.2kB/s]"
          }
        },
        "dd0a0ff4b47c4c49955921a7522b8df7": {
          "model_module": "@jupyter-widgets/base",
          "model_name": "LayoutModel",
          "model_module_version": "1.2.0",
          "state": {
            "_model_module": "@jupyter-widgets/base",
            "_model_module_version": "1.2.0",
            "_model_name": "LayoutModel",
            "_view_count": null,
            "_view_module": "@jupyter-widgets/base",
            "_view_module_version": "1.2.0",
            "_view_name": "LayoutView",
            "align_content": null,
            "align_items": null,
            "align_self": null,
            "border": null,
            "bottom": null,
            "display": null,
            "flex": null,
            "flex_flow": null,
            "grid_area": null,
            "grid_auto_columns": null,
            "grid_auto_flow": null,
            "grid_auto_rows": null,
            "grid_column": null,
            "grid_gap": null,
            "grid_row": null,
            "grid_template_areas": null,
            "grid_template_columns": null,
            "grid_template_rows": null,
            "height": null,
            "justify_content": null,
            "justify_items": null,
            "left": null,
            "margin": null,
            "max_height": null,
            "max_width": null,
            "min_height": null,
            "min_width": null,
            "object_fit": null,
            "object_position": null,
            "order": null,
            "overflow": null,
            "overflow_x": null,
            "overflow_y": null,
            "padding": null,
            "right": null,
            "top": null,
            "visibility": null,
            "width": null
          }
        },
        "0a583a5957b64478a2a7c985fe8b9af1": {
          "model_module": "@jupyter-widgets/base",
          "model_name": "LayoutModel",
          "model_module_version": "1.2.0",
          "state": {
            "_model_module": "@jupyter-widgets/base",
            "_model_module_version": "1.2.0",
            "_model_name": "LayoutModel",
            "_view_count": null,
            "_view_module": "@jupyter-widgets/base",
            "_view_module_version": "1.2.0",
            "_view_name": "LayoutView",
            "align_content": null,
            "align_items": null,
            "align_self": null,
            "border": null,
            "bottom": null,
            "display": null,
            "flex": null,
            "flex_flow": null,
            "grid_area": null,
            "grid_auto_columns": null,
            "grid_auto_flow": null,
            "grid_auto_rows": null,
            "grid_column": null,
            "grid_gap": null,
            "grid_row": null,
            "grid_template_areas": null,
            "grid_template_columns": null,
            "grid_template_rows": null,
            "height": null,
            "justify_content": null,
            "justify_items": null,
            "left": null,
            "margin": null,
            "max_height": null,
            "max_width": null,
            "min_height": null,
            "min_width": null,
            "object_fit": null,
            "object_position": null,
            "order": null,
            "overflow": null,
            "overflow_x": null,
            "overflow_y": null,
            "padding": null,
            "right": null,
            "top": null,
            "visibility": null,
            "width": null
          }
        },
        "fb1379f3870d472e8bc3ff89771cd409": {
          "model_module": "@jupyter-widgets/controls",
          "model_name": "DescriptionStyleModel",
          "model_module_version": "1.5.0",
          "state": {
            "_model_module": "@jupyter-widgets/controls",
            "_model_module_version": "1.5.0",
            "_model_name": "DescriptionStyleModel",
            "_view_count": null,
            "_view_module": "@jupyter-widgets/base",
            "_view_module_version": "1.2.0",
            "_view_name": "StyleView",
            "description_width": ""
          }
        },
        "e68db8ed38bc472c8d9961672389b8a3": {
          "model_module": "@jupyter-widgets/base",
          "model_name": "LayoutModel",
          "model_module_version": "1.2.0",
          "state": {
            "_model_module": "@jupyter-widgets/base",
            "_model_module_version": "1.2.0",
            "_model_name": "LayoutModel",
            "_view_count": null,
            "_view_module": "@jupyter-widgets/base",
            "_view_module_version": "1.2.0",
            "_view_name": "LayoutView",
            "align_content": null,
            "align_items": null,
            "align_self": null,
            "border": null,
            "bottom": null,
            "display": null,
            "flex": null,
            "flex_flow": null,
            "grid_area": null,
            "grid_auto_columns": null,
            "grid_auto_flow": null,
            "grid_auto_rows": null,
            "grid_column": null,
            "grid_gap": null,
            "grid_row": null,
            "grid_template_areas": null,
            "grid_template_columns": null,
            "grid_template_rows": null,
            "height": null,
            "justify_content": null,
            "justify_items": null,
            "left": null,
            "margin": null,
            "max_height": null,
            "max_width": null,
            "min_height": null,
            "min_width": null,
            "object_fit": null,
            "object_position": null,
            "order": null,
            "overflow": null,
            "overflow_x": null,
            "overflow_y": null,
            "padding": null,
            "right": null,
            "top": null,
            "visibility": null,
            "width": null
          }
        },
        "d364734273214ff5892579eab5028333": {
          "model_module": "@jupyter-widgets/controls",
          "model_name": "ProgressStyleModel",
          "model_module_version": "1.5.0",
          "state": {
            "_model_module": "@jupyter-widgets/controls",
            "_model_module_version": "1.5.0",
            "_model_name": "ProgressStyleModel",
            "_view_count": null,
            "_view_module": "@jupyter-widgets/base",
            "_view_module_version": "1.2.0",
            "_view_name": "StyleView",
            "bar_color": null,
            "description_width": ""
          }
        },
        "f3fa51ef3f5a4e81b4ffd7f8a4296c60": {
          "model_module": "@jupyter-widgets/base",
          "model_name": "LayoutModel",
          "model_module_version": "1.2.0",
          "state": {
            "_model_module": "@jupyter-widgets/base",
            "_model_module_version": "1.2.0",
            "_model_name": "LayoutModel",
            "_view_count": null,
            "_view_module": "@jupyter-widgets/base",
            "_view_module_version": "1.2.0",
            "_view_name": "LayoutView",
            "align_content": null,
            "align_items": null,
            "align_self": null,
            "border": null,
            "bottom": null,
            "display": null,
            "flex": null,
            "flex_flow": null,
            "grid_area": null,
            "grid_auto_columns": null,
            "grid_auto_flow": null,
            "grid_auto_rows": null,
            "grid_column": null,
            "grid_gap": null,
            "grid_row": null,
            "grid_template_areas": null,
            "grid_template_columns": null,
            "grid_template_rows": null,
            "height": null,
            "justify_content": null,
            "justify_items": null,
            "left": null,
            "margin": null,
            "max_height": null,
            "max_width": null,
            "min_height": null,
            "min_width": null,
            "object_fit": null,
            "object_position": null,
            "order": null,
            "overflow": null,
            "overflow_x": null,
            "overflow_y": null,
            "padding": null,
            "right": null,
            "top": null,
            "visibility": null,
            "width": null
          }
        },
        "04e5b388fd114f028d22c2927a7b74a4": {
          "model_module": "@jupyter-widgets/controls",
          "model_name": "DescriptionStyleModel",
          "model_module_version": "1.5.0",
          "state": {
            "_model_module": "@jupyter-widgets/controls",
            "_model_module_version": "1.5.0",
            "_model_name": "DescriptionStyleModel",
            "_view_count": null,
            "_view_module": "@jupyter-widgets/base",
            "_view_module_version": "1.2.0",
            "_view_name": "StyleView",
            "description_width": ""
          }
        },
        "2013a78cb0f348a18f5644a478e46417": {
          "model_module": "@jupyter-widgets/controls",
          "model_name": "HBoxModel",
          "model_module_version": "1.5.0",
          "state": {
            "_dom_classes": [],
            "_model_module": "@jupyter-widgets/controls",
            "_model_module_version": "1.5.0",
            "_model_name": "HBoxModel",
            "_view_count": null,
            "_view_module": "@jupyter-widgets/controls",
            "_view_module_version": "1.5.0",
            "_view_name": "HBoxView",
            "box_style": "",
            "children": [
              "IPY_MODEL_9e24d58cc0da448fa44dee2da4dd0d48",
              "IPY_MODEL_f742156ba40b470ba044dba170b14364",
              "IPY_MODEL_0c5612c05269428a9f0f9139e4e39744"
            ],
            "layout": "IPY_MODEL_272069ce04fe45be94c41b1f087dcd5c"
          }
        },
        "9e24d58cc0da448fa44dee2da4dd0d48": {
          "model_module": "@jupyter-widgets/controls",
          "model_name": "HTMLModel",
          "model_module_version": "1.5.0",
          "state": {
            "_dom_classes": [],
            "_model_module": "@jupyter-widgets/controls",
            "_model_module_version": "1.5.0",
            "_model_name": "HTMLModel",
            "_view_count": null,
            "_view_module": "@jupyter-widgets/controls",
            "_view_module_version": "1.5.0",
            "_view_name": "HTMLView",
            "description": "",
            "description_tooltip": null,
            "layout": "IPY_MODEL_14f76c9de1b64e4eb905755e9841cca9",
            "placeholder": "​",
            "style": "IPY_MODEL_bfbd77a8cccd4bb69c8d83c8a442e7a3",
            "value": "Downloading data: 100%"
          }
        },
        "f742156ba40b470ba044dba170b14364": {
          "model_module": "@jupyter-widgets/controls",
          "model_name": "FloatProgressModel",
          "model_module_version": "1.5.0",
          "state": {
            "_dom_classes": [],
            "_model_module": "@jupyter-widgets/controls",
            "_model_module_version": "1.5.0",
            "_model_name": "FloatProgressModel",
            "_view_count": null,
            "_view_module": "@jupyter-widgets/controls",
            "_view_module_version": "1.5.0",
            "_view_name": "ProgressView",
            "bar_style": "success",
            "description": "",
            "description_tooltip": null,
            "layout": "IPY_MODEL_79d44acf375c4620bd0b7654b0afc2f2",
            "max": 8834152,
            "min": 0,
            "orientation": "horizontal",
            "style": "IPY_MODEL_48c67affd0ca41f3bfc50b6e45cf3204",
            "value": 8834152
          }
        },
        "0c5612c05269428a9f0f9139e4e39744": {
          "model_module": "@jupyter-widgets/controls",
          "model_name": "HTMLModel",
          "model_module_version": "1.5.0",
          "state": {
            "_dom_classes": [],
            "_model_module": "@jupyter-widgets/controls",
            "_model_module_version": "1.5.0",
            "_model_name": "HTMLModel",
            "_view_count": null,
            "_view_module": "@jupyter-widgets/controls",
            "_view_module_version": "1.5.0",
            "_view_name": "HTMLView",
            "description": "",
            "description_tooltip": null,
            "layout": "IPY_MODEL_5327381a39c04cc6b428e7b302006e4b",
            "placeholder": "​",
            "style": "IPY_MODEL_6903ed9dd250432cb115192a187a3aca",
            "value": " 8.83M/8.83M [00:00&lt;00:00, 8.35MB/s]"
          }
        },
        "272069ce04fe45be94c41b1f087dcd5c": {
          "model_module": "@jupyter-widgets/base",
          "model_name": "LayoutModel",
          "model_module_version": "1.2.0",
          "state": {
            "_model_module": "@jupyter-widgets/base",
            "_model_module_version": "1.2.0",
            "_model_name": "LayoutModel",
            "_view_count": null,
            "_view_module": "@jupyter-widgets/base",
            "_view_module_version": "1.2.0",
            "_view_name": "LayoutView",
            "align_content": null,
            "align_items": null,
            "align_self": null,
            "border": null,
            "bottom": null,
            "display": null,
            "flex": null,
            "flex_flow": null,
            "grid_area": null,
            "grid_auto_columns": null,
            "grid_auto_flow": null,
            "grid_auto_rows": null,
            "grid_column": null,
            "grid_gap": null,
            "grid_row": null,
            "grid_template_areas": null,
            "grid_template_columns": null,
            "grid_template_rows": null,
            "height": null,
            "justify_content": null,
            "justify_items": null,
            "left": null,
            "margin": null,
            "max_height": null,
            "max_width": null,
            "min_height": null,
            "min_width": null,
            "object_fit": null,
            "object_position": null,
            "order": null,
            "overflow": null,
            "overflow_x": null,
            "overflow_y": null,
            "padding": null,
            "right": null,
            "top": null,
            "visibility": null,
            "width": null
          }
        },
        "14f76c9de1b64e4eb905755e9841cca9": {
          "model_module": "@jupyter-widgets/base",
          "model_name": "LayoutModel",
          "model_module_version": "1.2.0",
          "state": {
            "_model_module": "@jupyter-widgets/base",
            "_model_module_version": "1.2.0",
            "_model_name": "LayoutModel",
            "_view_count": null,
            "_view_module": "@jupyter-widgets/base",
            "_view_module_version": "1.2.0",
            "_view_name": "LayoutView",
            "align_content": null,
            "align_items": null,
            "align_self": null,
            "border": null,
            "bottom": null,
            "display": null,
            "flex": null,
            "flex_flow": null,
            "grid_area": null,
            "grid_auto_columns": null,
            "grid_auto_flow": null,
            "grid_auto_rows": null,
            "grid_column": null,
            "grid_gap": null,
            "grid_row": null,
            "grid_template_areas": null,
            "grid_template_columns": null,
            "grid_template_rows": null,
            "height": null,
            "justify_content": null,
            "justify_items": null,
            "left": null,
            "margin": null,
            "max_height": null,
            "max_width": null,
            "min_height": null,
            "min_width": null,
            "object_fit": null,
            "object_position": null,
            "order": null,
            "overflow": null,
            "overflow_x": null,
            "overflow_y": null,
            "padding": null,
            "right": null,
            "top": null,
            "visibility": null,
            "width": null
          }
        },
        "bfbd77a8cccd4bb69c8d83c8a442e7a3": {
          "model_module": "@jupyter-widgets/controls",
          "model_name": "DescriptionStyleModel",
          "model_module_version": "1.5.0",
          "state": {
            "_model_module": "@jupyter-widgets/controls",
            "_model_module_version": "1.5.0",
            "_model_name": "DescriptionStyleModel",
            "_view_count": null,
            "_view_module": "@jupyter-widgets/base",
            "_view_module_version": "1.2.0",
            "_view_name": "StyleView",
            "description_width": ""
          }
        },
        "79d44acf375c4620bd0b7654b0afc2f2": {
          "model_module": "@jupyter-widgets/base",
          "model_name": "LayoutModel",
          "model_module_version": "1.2.0",
          "state": {
            "_model_module": "@jupyter-widgets/base",
            "_model_module_version": "1.2.0",
            "_model_name": "LayoutModel",
            "_view_count": null,
            "_view_module": "@jupyter-widgets/base",
            "_view_module_version": "1.2.0",
            "_view_name": "LayoutView",
            "align_content": null,
            "align_items": null,
            "align_self": null,
            "border": null,
            "bottom": null,
            "display": null,
            "flex": null,
            "flex_flow": null,
            "grid_area": null,
            "grid_auto_columns": null,
            "grid_auto_flow": null,
            "grid_auto_rows": null,
            "grid_column": null,
            "grid_gap": null,
            "grid_row": null,
            "grid_template_areas": null,
            "grid_template_columns": null,
            "grid_template_rows": null,
            "height": null,
            "justify_content": null,
            "justify_items": null,
            "left": null,
            "margin": null,
            "max_height": null,
            "max_width": null,
            "min_height": null,
            "min_width": null,
            "object_fit": null,
            "object_position": null,
            "order": null,
            "overflow": null,
            "overflow_x": null,
            "overflow_y": null,
            "padding": null,
            "right": null,
            "top": null,
            "visibility": null,
            "width": null
          }
        },
        "48c67affd0ca41f3bfc50b6e45cf3204": {
          "model_module": "@jupyter-widgets/controls",
          "model_name": "ProgressStyleModel",
          "model_module_version": "1.5.0",
          "state": {
            "_model_module": "@jupyter-widgets/controls",
            "_model_module_version": "1.5.0",
            "_model_name": "ProgressStyleModel",
            "_view_count": null,
            "_view_module": "@jupyter-widgets/base",
            "_view_module_version": "1.2.0",
            "_view_name": "StyleView",
            "bar_color": null,
            "description_width": ""
          }
        },
        "5327381a39c04cc6b428e7b302006e4b": {
          "model_module": "@jupyter-widgets/base",
          "model_name": "LayoutModel",
          "model_module_version": "1.2.0",
          "state": {
            "_model_module": "@jupyter-widgets/base",
            "_model_module_version": "1.2.0",
            "_model_name": "LayoutModel",
            "_view_count": null,
            "_view_module": "@jupyter-widgets/base",
            "_view_module_version": "1.2.0",
            "_view_name": "LayoutView",
            "align_content": null,
            "align_items": null,
            "align_self": null,
            "border": null,
            "bottom": null,
            "display": null,
            "flex": null,
            "flex_flow": null,
            "grid_area": null,
            "grid_auto_columns": null,
            "grid_auto_flow": null,
            "grid_auto_rows": null,
            "grid_column": null,
            "grid_gap": null,
            "grid_row": null,
            "grid_template_areas": null,
            "grid_template_columns": null,
            "grid_template_rows": null,
            "height": null,
            "justify_content": null,
            "justify_items": null,
            "left": null,
            "margin": null,
            "max_height": null,
            "max_width": null,
            "min_height": null,
            "min_width": null,
            "object_fit": null,
            "object_position": null,
            "order": null,
            "overflow": null,
            "overflow_x": null,
            "overflow_y": null,
            "padding": null,
            "right": null,
            "top": null,
            "visibility": null,
            "width": null
          }
        },
        "6903ed9dd250432cb115192a187a3aca": {
          "model_module": "@jupyter-widgets/controls",
          "model_name": "DescriptionStyleModel",
          "model_module_version": "1.5.0",
          "state": {
            "_model_module": "@jupyter-widgets/controls",
            "_model_module_version": "1.5.0",
            "_model_name": "DescriptionStyleModel",
            "_view_count": null,
            "_view_module": "@jupyter-widgets/base",
            "_view_module_version": "1.2.0",
            "_view_name": "StyleView",
            "description_width": ""
          }
        },
        "acd738b01a004ad0a790fffffcf41a94": {
          "model_module": "@jupyter-widgets/controls",
          "model_name": "HBoxModel",
          "model_module_version": "1.5.0",
          "state": {
            "_dom_classes": [],
            "_model_module": "@jupyter-widgets/controls",
            "_model_module_version": "1.5.0",
            "_model_name": "HBoxModel",
            "_view_count": null,
            "_view_module": "@jupyter-widgets/controls",
            "_view_module_version": "1.5.0",
            "_view_name": "HBoxView",
            "box_style": "",
            "children": [
              "IPY_MODEL_eb4b24b68be944bf9dd9cbc00ac01695",
              "IPY_MODEL_c02d930c9bac4548896d41b15ddeafbf",
              "IPY_MODEL_2b366473605241478aba767ef11a87f4"
            ],
            "layout": "IPY_MODEL_812675ca9786456185c17e06f489134f"
          }
        },
        "eb4b24b68be944bf9dd9cbc00ac01695": {
          "model_module": "@jupyter-widgets/controls",
          "model_name": "HTMLModel",
          "model_module_version": "1.5.0",
          "state": {
            "_dom_classes": [],
            "_model_module": "@jupyter-widgets/controls",
            "_model_module_version": "1.5.0",
            "_model_name": "HTMLModel",
            "_view_count": null,
            "_view_module": "@jupyter-widgets/controls",
            "_view_module_version": "1.5.0",
            "_view_name": "HTMLView",
            "description": "",
            "description_tooltip": null,
            "layout": "IPY_MODEL_4974bf3d7f6a4f4cbb42eced73d802d3",
            "placeholder": "​",
            "style": "IPY_MODEL_a235b2f35d3247a5873bdc03562969bd",
            "value": "Generating train split: "
          }
        },
        "c02d930c9bac4548896d41b15ddeafbf": {
          "model_module": "@jupyter-widgets/controls",
          "model_name": "FloatProgressModel",
          "model_module_version": "1.5.0",
          "state": {
            "_dom_classes": [],
            "_model_module": "@jupyter-widgets/controls",
            "_model_module_version": "1.5.0",
            "_model_name": "FloatProgressModel",
            "_view_count": null,
            "_view_module": "@jupyter-widgets/controls",
            "_view_module_version": "1.5.0",
            "_view_name": "ProgressView",
            "bar_style": "success",
            "description": "",
            "description_tooltip": null,
            "layout": "IPY_MODEL_086ba41f53db4dba9ef1b7513a509822",
            "max": 1,
            "min": 0,
            "orientation": "horizontal",
            "style": "IPY_MODEL_37dad8ec591846e0b8240ab77b193561",
            "value": 1
          }
        },
        "2b366473605241478aba767ef11a87f4": {
          "model_module": "@jupyter-widgets/controls",
          "model_name": "HTMLModel",
          "model_module_version": "1.5.0",
          "state": {
            "_dom_classes": [],
            "_model_module": "@jupyter-widgets/controls",
            "_model_module_version": "1.5.0",
            "_model_name": "HTMLModel",
            "_view_count": null,
            "_view_module": "@jupyter-widgets/controls",
            "_view_module_version": "1.5.0",
            "_view_name": "HTMLView",
            "description": "",
            "description_tooltip": null,
            "layout": "IPY_MODEL_3455a6e742e34cd7ba2a27f1bca29ecd",
            "placeholder": "​",
            "style": "IPY_MODEL_29b12e5ef6db44c5851d857ad1fe5bc2",
            "value": " 5938/0 [00:00&lt;00:00, 27539.85 examples/s]"
          }
        },
        "812675ca9786456185c17e06f489134f": {
          "model_module": "@jupyter-widgets/base",
          "model_name": "LayoutModel",
          "model_module_version": "1.2.0",
          "state": {
            "_model_module": "@jupyter-widgets/base",
            "_model_module_version": "1.2.0",
            "_model_name": "LayoutModel",
            "_view_count": null,
            "_view_module": "@jupyter-widgets/base",
            "_view_module_version": "1.2.0",
            "_view_name": "LayoutView",
            "align_content": null,
            "align_items": null,
            "align_self": null,
            "border": null,
            "bottom": null,
            "display": null,
            "flex": null,
            "flex_flow": null,
            "grid_area": null,
            "grid_auto_columns": null,
            "grid_auto_flow": null,
            "grid_auto_rows": null,
            "grid_column": null,
            "grid_gap": null,
            "grid_row": null,
            "grid_template_areas": null,
            "grid_template_columns": null,
            "grid_template_rows": null,
            "height": null,
            "justify_content": null,
            "justify_items": null,
            "left": null,
            "margin": null,
            "max_height": null,
            "max_width": null,
            "min_height": null,
            "min_width": null,
            "object_fit": null,
            "object_position": null,
            "order": null,
            "overflow": null,
            "overflow_x": null,
            "overflow_y": null,
            "padding": null,
            "right": null,
            "top": null,
            "visibility": null,
            "width": null
          }
        },
        "4974bf3d7f6a4f4cbb42eced73d802d3": {
          "model_module": "@jupyter-widgets/base",
          "model_name": "LayoutModel",
          "model_module_version": "1.2.0",
          "state": {
            "_model_module": "@jupyter-widgets/base",
            "_model_module_version": "1.2.0",
            "_model_name": "LayoutModel",
            "_view_count": null,
            "_view_module": "@jupyter-widgets/base",
            "_view_module_version": "1.2.0",
            "_view_name": "LayoutView",
            "align_content": null,
            "align_items": null,
            "align_self": null,
            "border": null,
            "bottom": null,
            "display": null,
            "flex": null,
            "flex_flow": null,
            "grid_area": null,
            "grid_auto_columns": null,
            "grid_auto_flow": null,
            "grid_auto_rows": null,
            "grid_column": null,
            "grid_gap": null,
            "grid_row": null,
            "grid_template_areas": null,
            "grid_template_columns": null,
            "grid_template_rows": null,
            "height": null,
            "justify_content": null,
            "justify_items": null,
            "left": null,
            "margin": null,
            "max_height": null,
            "max_width": null,
            "min_height": null,
            "min_width": null,
            "object_fit": null,
            "object_position": null,
            "order": null,
            "overflow": null,
            "overflow_x": null,
            "overflow_y": null,
            "padding": null,
            "right": null,
            "top": null,
            "visibility": null,
            "width": null
          }
        },
        "a235b2f35d3247a5873bdc03562969bd": {
          "model_module": "@jupyter-widgets/controls",
          "model_name": "DescriptionStyleModel",
          "model_module_version": "1.5.0",
          "state": {
            "_model_module": "@jupyter-widgets/controls",
            "_model_module_version": "1.5.0",
            "_model_name": "DescriptionStyleModel",
            "_view_count": null,
            "_view_module": "@jupyter-widgets/base",
            "_view_module_version": "1.2.0",
            "_view_name": "StyleView",
            "description_width": ""
          }
        },
        "086ba41f53db4dba9ef1b7513a509822": {
          "model_module": "@jupyter-widgets/base",
          "model_name": "LayoutModel",
          "model_module_version": "1.2.0",
          "state": {
            "_model_module": "@jupyter-widgets/base",
            "_model_module_version": "1.2.0",
            "_model_name": "LayoutModel",
            "_view_count": null,
            "_view_module": "@jupyter-widgets/base",
            "_view_module_version": "1.2.0",
            "_view_name": "LayoutView",
            "align_content": null,
            "align_items": null,
            "align_self": null,
            "border": null,
            "bottom": null,
            "display": null,
            "flex": null,
            "flex_flow": null,
            "grid_area": null,
            "grid_auto_columns": null,
            "grid_auto_flow": null,
            "grid_auto_rows": null,
            "grid_column": null,
            "grid_gap": null,
            "grid_row": null,
            "grid_template_areas": null,
            "grid_template_columns": null,
            "grid_template_rows": null,
            "height": null,
            "justify_content": null,
            "justify_items": null,
            "left": null,
            "margin": null,
            "max_height": null,
            "max_width": null,
            "min_height": null,
            "min_width": null,
            "object_fit": null,
            "object_position": null,
            "order": null,
            "overflow": null,
            "overflow_x": null,
            "overflow_y": null,
            "padding": null,
            "right": null,
            "top": null,
            "visibility": null,
            "width": "20px"
          }
        },
        "37dad8ec591846e0b8240ab77b193561": {
          "model_module": "@jupyter-widgets/controls",
          "model_name": "ProgressStyleModel",
          "model_module_version": "1.5.0",
          "state": {
            "_model_module": "@jupyter-widgets/controls",
            "_model_module_version": "1.5.0",
            "_model_name": "ProgressStyleModel",
            "_view_count": null,
            "_view_module": "@jupyter-widgets/base",
            "_view_module_version": "1.2.0",
            "_view_name": "StyleView",
            "bar_color": null,
            "description_width": ""
          }
        },
        "3455a6e742e34cd7ba2a27f1bca29ecd": {
          "model_module": "@jupyter-widgets/base",
          "model_name": "LayoutModel",
          "model_module_version": "1.2.0",
          "state": {
            "_model_module": "@jupyter-widgets/base",
            "_model_module_version": "1.2.0",
            "_model_name": "LayoutModel",
            "_view_count": null,
            "_view_module": "@jupyter-widgets/base",
            "_view_module_version": "1.2.0",
            "_view_name": "LayoutView",
            "align_content": null,
            "align_items": null,
            "align_self": null,
            "border": null,
            "bottom": null,
            "display": null,
            "flex": null,
            "flex_flow": null,
            "grid_area": null,
            "grid_auto_columns": null,
            "grid_auto_flow": null,
            "grid_auto_rows": null,
            "grid_column": null,
            "grid_gap": null,
            "grid_row": null,
            "grid_template_areas": null,
            "grid_template_columns": null,
            "grid_template_rows": null,
            "height": null,
            "justify_content": null,
            "justify_items": null,
            "left": null,
            "margin": null,
            "max_height": null,
            "max_width": null,
            "min_height": null,
            "min_width": null,
            "object_fit": null,
            "object_position": null,
            "order": null,
            "overflow": null,
            "overflow_x": null,
            "overflow_y": null,
            "padding": null,
            "right": null,
            "top": null,
            "visibility": null,
            "width": null
          }
        },
        "29b12e5ef6db44c5851d857ad1fe5bc2": {
          "model_module": "@jupyter-widgets/controls",
          "model_name": "DescriptionStyleModel",
          "model_module_version": "1.5.0",
          "state": {
            "_model_module": "@jupyter-widgets/controls",
            "_model_module_version": "1.5.0",
            "_model_name": "DescriptionStyleModel",
            "_view_count": null,
            "_view_module": "@jupyter-widgets/base",
            "_view_module_version": "1.2.0",
            "_view_name": "StyleView",
            "description_width": ""
          }
        }
      }
    }
  },
  "cells": [
    {
      "cell_type": "markdown",
      "metadata": {
        "id": "view-in-github",
        "colab_type": "text"
      },
      "source": [
        "<a href=\"https://colab.research.google.com/github/vishalmysore/AI/blob/main/Vector_Example.ipynb\" target=\"_parent\"><img src=\"https://colab.research.google.com/assets/colab-badge.svg\" alt=\"Open In Colab\"/></a>"
      ]
    },
    {
      "cell_type": "code",
      "source": [
        "!pip install datasets word2vec\n",
        "!pip install --upgrade gensim"
      ],
      "metadata": {
        "colab": {
          "base_uri": "https://localhost:8080/"
        },
        "id": "1UKS5oCDLkT2",
        "outputId": "1e6433e7-63b0-4ea4-bcf7-8c516c098246"
      },
      "execution_count": 2,
      "outputs": [
        {
          "output_type": "stream",
          "name": "stdout",
          "text": [
            "Collecting datasets\n",
            "  Downloading datasets-2.16.0-py3-none-any.whl (507 kB)\n",
            "\u001b[2K     \u001b[90m━━━━━━━━━━━━━━━━━━━━━━━━━━━━━━━━━━━━━━━━\u001b[0m \u001b[32m507.1/507.1 kB\u001b[0m \u001b[31m6.5 MB/s\u001b[0m eta \u001b[36m0:00:00\u001b[0m\n",
            "\u001b[?25hCollecting word2vec\n",
            "  Downloading word2vec-0.11.1.tar.gz (42 kB)\n",
            "\u001b[2K     \u001b[90m━━━━━━━━━━━━━━━━━━━━━━━━━━━━━━━━━━━━━━━━\u001b[0m \u001b[32m42.3/42.3 kB\u001b[0m \u001b[31m4.4 MB/s\u001b[0m eta \u001b[36m0:00:00\u001b[0m\n",
            "\u001b[?25h  Installing build dependencies ... \u001b[?25l\u001b[?25hdone\n",
            "  Getting requirements to build wheel ... \u001b[?25l\u001b[?25hdone\n",
            "  Preparing metadata (pyproject.toml) ... \u001b[?25l\u001b[?25hdone\n",
            "Requirement already satisfied: filelock in /usr/local/lib/python3.10/dist-packages (from datasets) (3.13.1)\n",
            "Requirement already satisfied: numpy>=1.17 in /usr/local/lib/python3.10/dist-packages (from datasets) (1.23.5)\n",
            "Requirement already satisfied: pyarrow>=8.0.0 in /usr/local/lib/python3.10/dist-packages (from datasets) (10.0.1)\n",
            "Collecting pyarrow-hotfix (from datasets)\n",
            "  Downloading pyarrow_hotfix-0.6-py3-none-any.whl (7.9 kB)\n",
            "Collecting dill<0.3.8,>=0.3.0 (from datasets)\n",
            "  Downloading dill-0.3.7-py3-none-any.whl (115 kB)\n",
            "\u001b[2K     \u001b[90m━━━━━━━━━━━━━━━━━━━━━━━━━━━━━━━━━━━━━━━━\u001b[0m \u001b[32m115.3/115.3 kB\u001b[0m \u001b[31m11.5 MB/s\u001b[0m eta \u001b[36m0:00:00\u001b[0m\n",
            "\u001b[?25hRequirement already satisfied: pandas in /usr/local/lib/python3.10/dist-packages (from datasets) (1.5.3)\n",
            "Requirement already satisfied: requests>=2.19.0 in /usr/local/lib/python3.10/dist-packages (from datasets) (2.31.0)\n",
            "Requirement already satisfied: tqdm>=4.62.1 in /usr/local/lib/python3.10/dist-packages (from datasets) (4.66.1)\n",
            "Requirement already satisfied: xxhash in /usr/local/lib/python3.10/dist-packages (from datasets) (3.4.1)\n",
            "Collecting multiprocess (from datasets)\n",
            "  Downloading multiprocess-0.70.15-py310-none-any.whl (134 kB)\n",
            "\u001b[2K     \u001b[90m━━━━━━━━━━━━━━━━━━━━━━━━━━━━━━━━━━━━━━━━\u001b[0m \u001b[32m134.8/134.8 kB\u001b[0m \u001b[31m12.9 MB/s\u001b[0m eta \u001b[36m0:00:00\u001b[0m\n",
            "\u001b[?25hRequirement already satisfied: fsspec[http]<=2023.10.0,>=2023.1.0 in /usr/local/lib/python3.10/dist-packages (from datasets) (2023.6.0)\n",
            "Requirement already satisfied: aiohttp in /usr/local/lib/python3.10/dist-packages (from datasets) (3.9.1)\n",
            "Requirement already satisfied: huggingface-hub>=0.19.4 in /usr/local/lib/python3.10/dist-packages (from datasets) (0.19.4)\n",
            "Requirement already satisfied: packaging in /usr/local/lib/python3.10/dist-packages (from datasets) (23.2)\n",
            "Requirement already satisfied: pyyaml>=5.1 in /usr/local/lib/python3.10/dist-packages (from datasets) (6.0.1)\n",
            "Requirement already satisfied: joblib in /usr/local/lib/python3.10/dist-packages (from word2vec) (1.3.2)\n",
            "Requirement already satisfied: attrs>=17.3.0 in /usr/local/lib/python3.10/dist-packages (from aiohttp->datasets) (23.1.0)\n",
            "Requirement already satisfied: multidict<7.0,>=4.5 in /usr/local/lib/python3.10/dist-packages (from aiohttp->datasets) (6.0.4)\n",
            "Requirement already satisfied: yarl<2.0,>=1.0 in /usr/local/lib/python3.10/dist-packages (from aiohttp->datasets) (1.9.4)\n",
            "Requirement already satisfied: frozenlist>=1.1.1 in /usr/local/lib/python3.10/dist-packages (from aiohttp->datasets) (1.4.1)\n",
            "Requirement already satisfied: aiosignal>=1.1.2 in /usr/local/lib/python3.10/dist-packages (from aiohttp->datasets) (1.3.1)\n",
            "Requirement already satisfied: async-timeout<5.0,>=4.0 in /usr/local/lib/python3.10/dist-packages (from aiohttp->datasets) (4.0.3)\n",
            "Requirement already satisfied: typing-extensions>=3.7.4.3 in /usr/local/lib/python3.10/dist-packages (from huggingface-hub>=0.19.4->datasets) (4.5.0)\n",
            "Requirement already satisfied: charset-normalizer<4,>=2 in /usr/local/lib/python3.10/dist-packages (from requests>=2.19.0->datasets) (3.3.2)\n",
            "Requirement already satisfied: idna<4,>=2.5 in /usr/local/lib/python3.10/dist-packages (from requests>=2.19.0->datasets) (3.6)\n",
            "Requirement already satisfied: urllib3<3,>=1.21.1 in /usr/local/lib/python3.10/dist-packages (from requests>=2.19.0->datasets) (2.0.7)\n",
            "Requirement already satisfied: certifi>=2017.4.17 in /usr/local/lib/python3.10/dist-packages (from requests>=2.19.0->datasets) (2023.11.17)\n",
            "Requirement already satisfied: python-dateutil>=2.8.1 in /usr/local/lib/python3.10/dist-packages (from pandas->datasets) (2.8.2)\n",
            "Requirement already satisfied: pytz>=2020.1 in /usr/local/lib/python3.10/dist-packages (from pandas->datasets) (2023.3.post1)\n",
            "Requirement already satisfied: six>=1.5 in /usr/local/lib/python3.10/dist-packages (from python-dateutil>=2.8.1->pandas->datasets) (1.16.0)\n",
            "Building wheels for collected packages: word2vec\n",
            "  Building wheel for word2vec (pyproject.toml) ... \u001b[?25l\u001b[?25hdone\n",
            "  Created wheel for word2vec: filename=word2vec-0.11.1-py2.py3-none-any.whl size=141242 sha256=003bcdcedf81af4c79e48a1d7eecf8fcfaa123e20a0b81e6ef25dbc9112e08df\n",
            "  Stored in directory: /root/.cache/pip/wheels/6a/fa/d1/e03e8c10e0e2aa5c7b6e2b46b4a1c715d140283853937bb4b1\n",
            "Successfully built word2vec\n",
            "Installing collected packages: word2vec, pyarrow-hotfix, dill, multiprocess, datasets\n",
            "Successfully installed datasets-2.16.0 dill-0.3.7 multiprocess-0.70.15 pyarrow-hotfix-0.6 word2vec-0.11.1\n",
            "Requirement already satisfied: gensim in /usr/local/lib/python3.10/dist-packages (4.3.2)\n",
            "Requirement already satisfied: numpy>=1.18.5 in /usr/local/lib/python3.10/dist-packages (from gensim) (1.23.5)\n",
            "Requirement already satisfied: scipy>=1.7.0 in /usr/local/lib/python3.10/dist-packages (from gensim) (1.11.4)\n",
            "Requirement already satisfied: smart-open>=1.8.1 in /usr/local/lib/python3.10/dist-packages (from gensim) (6.4.0)\n"
          ]
        }
      ]
    },
    {
      "cell_type": "code",
      "execution_count": 3,
      "metadata": {
        "id": "aeqHZ6yLLdDX"
      },
      "outputs": [],
      "source": [
        "from datasets import load_dataset\n",
        "from gensim.models import Word2Vec\n",
        "from gensim.utils import simple_preprocess"
      ]
    },
    {
      "cell_type": "code",
      "source": [
        "dataset = load_dataset('stas/openwebtext-10k', split='train[:2000]')"
      ],
      "metadata": {
        "id": "ZrOhSL7SO4wu"
      },
      "execution_count": 40,
      "outputs": []
    },
    {
      "cell_type": "code",
      "source": [
        "dataset"
      ],
      "metadata": {
        "colab": {
          "base_uri": "https://localhost:8080/"
        },
        "id": "tnWMKPajOiUo",
        "outputId": "10626141-51d6-43eb-adc7-a4d50e41f4b3"
      },
      "execution_count": 41,
      "outputs": [
        {
          "output_type": "execute_result",
          "data": {
            "text/plain": [
              "Dataset({\n",
              "    features: ['text'],\n",
              "    num_rows: 2000\n",
              "})"
            ]
          },
          "metadata": {},
          "execution_count": 41
        }
      ]
    },
    {
      "cell_type": "code",
      "source": [
        "texts = [simple_preprocess(art['text']) for art in dataset]"
      ],
      "metadata": {
        "id": "DfVVNiS1OvZ_"
      },
      "execution_count": 42,
      "outputs": []
    },
    {
      "cell_type": "code",
      "source": [
        "dataset = load_dataset(\"VishalMysore/cookGPT\", split=\"train\")"
      ],
      "metadata": {
        "colab": {
          "base_uri": "https://localhost:8080/",
          "height": 113,
          "referenced_widgets": [
            "14c3fe89e84043bca11dd93b95a234cf",
            "33cbf5dc49684cd38975577db292b12c",
            "f757213cead3486aa39f41cc0f384742",
            "224b04369ada4e5d98814aff11b85862",
            "dd0a0ff4b47c4c49955921a7522b8df7",
            "0a583a5957b64478a2a7c985fe8b9af1",
            "fb1379f3870d472e8bc3ff89771cd409",
            "e68db8ed38bc472c8d9961672389b8a3",
            "d364734273214ff5892579eab5028333",
            "f3fa51ef3f5a4e81b4ffd7f8a4296c60",
            "04e5b388fd114f028d22c2927a7b74a4",
            "2013a78cb0f348a18f5644a478e46417",
            "9e24d58cc0da448fa44dee2da4dd0d48",
            "f742156ba40b470ba044dba170b14364",
            "0c5612c05269428a9f0f9139e4e39744",
            "272069ce04fe45be94c41b1f087dcd5c",
            "14f76c9de1b64e4eb905755e9841cca9",
            "bfbd77a8cccd4bb69c8d83c8a442e7a3",
            "79d44acf375c4620bd0b7654b0afc2f2",
            "48c67affd0ca41f3bfc50b6e45cf3204",
            "5327381a39c04cc6b428e7b302006e4b",
            "6903ed9dd250432cb115192a187a3aca",
            "acd738b01a004ad0a790fffffcf41a94",
            "eb4b24b68be944bf9dd9cbc00ac01695",
            "c02d930c9bac4548896d41b15ddeafbf",
            "2b366473605241478aba767ef11a87f4",
            "812675ca9786456185c17e06f489134f",
            "4974bf3d7f6a4f4cbb42eced73d802d3",
            "a235b2f35d3247a5873bdc03562969bd",
            "086ba41f53db4dba9ef1b7513a509822",
            "37dad8ec591846e0b8240ab77b193561",
            "3455a6e742e34cd7ba2a27f1bca29ecd",
            "29b12e5ef6db44c5851d857ad1fe5bc2"
          ]
        },
        "id": "YhAuTQTOfhkp",
        "outputId": "a13d58d5-144d-4a97-eec7-4b3747c08c07"
      },
      "execution_count": 53,
      "outputs": [
        {
          "output_type": "display_data",
          "data": {
            "text/plain": [
              "Downloading readme:   0%|          | 0.00/471 [00:00<?, ?B/s]"
            ],
            "application/vnd.jupyter.widget-view+json": {
              "version_major": 2,
              "version_minor": 0,
              "model_id": "14c3fe89e84043bca11dd93b95a234cf"
            }
          },
          "metadata": {}
        },
        {
          "output_type": "display_data",
          "data": {
            "text/plain": [
              "Downloading data:   0%|          | 0.00/8.83M [00:00<?, ?B/s]"
            ],
            "application/vnd.jupyter.widget-view+json": {
              "version_major": 2,
              "version_minor": 0,
              "model_id": "2013a78cb0f348a18f5644a478e46417"
            }
          },
          "metadata": {}
        },
        {
          "output_type": "display_data",
          "data": {
            "text/plain": [
              "Generating train split: 0 examples [00:00, ? examples/s]"
            ],
            "application/vnd.jupyter.widget-view+json": {
              "version_major": 2,
              "version_minor": 0,
              "model_id": "acd738b01a004ad0a790fffffcf41a94"
            }
          },
          "metadata": {}
        }
      ]
    },
    {
      "cell_type": "code",
      "source": [
        "dataset"
      ],
      "metadata": {
        "colab": {
          "base_uri": "https://localhost:8080/"
        },
        "id": "qlz-1gtc-K4V",
        "outputId": "7d7e981b-df03-4b3b-8121-0e3919e8168b"
      },
      "execution_count": 60,
      "outputs": [
        {
          "output_type": "execute_result",
          "data": {
            "text/plain": [
              "Dataset({\n",
              "    features: ['text'],\n",
              "    num_rows: 5938\n",
              "})"
            ]
          },
          "metadata": {},
          "execution_count": 60
        }
      ]
    },
    {
      "cell_type": "code",
      "source": [
        "texts = [simple_preprocess(art['text']) for art in dataset]"
      ],
      "metadata": {
        "id": "xi30VMPOf1g5"
      },
      "execution_count": 54,
      "outputs": []
    },
    {
      "cell_type": "code",
      "source": [
        "model = Word2Vec(texts, vector_size=200, window=5, min_count=1, workers=4)"
      ],
      "metadata": {
        "id": "Q1rvZ-HDRJYj"
      },
      "execution_count": 55,
      "outputs": []
    },
    {
      "cell_type": "code",
      "source": [
        "print(model.wv[\"paneer\"])"
      ],
      "metadata": {
        "colab": {
          "base_uri": "https://localhost:8080/"
        },
        "id": "imMcsaNYTtNS",
        "outputId": "ae9eb7ea-8163-46d1-9e4f-899e8db1c2df"
      },
      "execution_count": 56,
      "outputs": [
        {
          "output_type": "stream",
          "name": "stdout",
          "text": [
            "[ 6.94161132e-02  3.44152689e-01 -6.80213213e-01 -5.55651560e-02\n",
            "  1.60281688e-01 -2.08833992e-01 -4.97743577e-01 -2.50017315e-01\n",
            "  3.59311730e-01  1.21733136e-01  4.90897477e-01 -9.21285510e-01\n",
            " -1.23755074e+00  1.69501424e+00 -2.66565055e-01 -4.00495492e-02\n",
            "  6.82303607e-01 -3.35298002e-01 -7.90096343e-01 -5.89197278e-01\n",
            "  7.93467700e-01 -1.17294240e+00  1.28361595e+00  2.25058526e-01\n",
            " -4.65259552e-01 -3.76160979e-01  4.74037707e-01  2.72645861e-01\n",
            "  1.04462788e-01  2.54618824e-01 -3.36456329e-01  8.00730661e-03\n",
            " -5.63743412e-01 -4.70736086e-01  1.19740915e+00  2.19631457e+00\n",
            "  2.65874088e-01 -3.11953992e-01 -8.03924918e-01 -6.03803575e-01\n",
            " -6.94002092e-01  1.93998843e-01  9.33490455e-01  2.27369830e-01\n",
            "  4.68603134e-01 -3.78103137e-01  6.70431554e-01  7.36321628e-01\n",
            "  5.78140020e-01  6.34725869e-01 -1.42736351e+00 -8.54112089e-01\n",
            "  1.01611412e+00 -2.34438151e-01 -9.74999845e-01 -1.45708159e-01\n",
            "  3.10947020e-02 -1.49622768e-01  4.28774476e-01  7.52512753e-01\n",
            "  1.72165358e+00 -1.00720334e+00 -1.67668366e+00  7.80318165e-04\n",
            "  1.06430554e+00  8.68466973e-01  1.68159401e+00 -3.64381760e-01\n",
            " -1.20831214e-01  2.92143971e-01 -1.01660776e+00 -7.51699448e-01\n",
            "  7.06692576e-01  8.24760497e-02 -1.30906010e+00 -4.82289970e-01\n",
            " -1.16179514e+00 -1.24280743e-01 -4.20395076e-01 -1.14104486e+00\n",
            " -6.71039104e-01  5.63138686e-02  7.58661151e-01 -1.00457597e+00\n",
            " -2.50907564e+00  1.55640393e-01 -8.81034657e-02 -6.03008986e-01\n",
            "  6.28053546e-01 -1.08405781e+00  1.14452851e+00  5.73159419e-02\n",
            "  1.90724537e-01  1.28530467e+00 -7.61849880e-01 -1.24701703e+00\n",
            " -8.08531880e-01  2.65668780e-01  1.50332761e+00 -2.58914709e-01\n",
            "  1.01185548e+00  2.86617130e-01 -4.16560888e-01 -1.45432591e-01\n",
            "  1.31988212e-01  2.60143001e-02  1.05502915e+00 -6.15406096e-01\n",
            "  1.91844356e+00 -9.36385572e-01  1.58485770e+00 -6.35922194e-01\n",
            "  8.27642679e-01  5.63225746e-01 -4.25738066e-01  9.74651098e-01\n",
            " -1.11124182e+00  4.14020598e-01 -9.47705925e-01 -1.40160465e+00\n",
            " -8.56037498e-01 -4.44536656e-01  1.93310112e-01  1.54311216e+00\n",
            "  6.35523796e-02 -6.82990074e-01 -4.01889145e-01 -1.84678626e+00\n",
            "  6.52003884e-01  8.55501652e-01 -6.51855171e-01  1.95040429e+00\n",
            " -5.68083465e-01  3.34535688e-01 -2.27353930e-01 -1.32916784e+00\n",
            "  2.64186740e-01  1.61202598e+00  1.43004000e+00  1.24866493e-01\n",
            " -7.22748280e-01  5.29586732e-01 -2.76855767e-01  1.70323610e-01\n",
            "  4.08569872e-01 -5.27368546e-01 -2.23848835e-01 -5.29445946e-01\n",
            " -7.84228683e-01 -1.90783218e-01 -1.11330903e+00  2.15958413e-02\n",
            " -2.94539273e-01  1.39010000e+00  1.18819439e+00  3.87406051e-01\n",
            " -2.92502701e-01 -2.17509896e-01  1.21557713e-01  8.33130479e-01\n",
            "  1.63551128e+00 -2.97507107e-01  2.71194488e-01 -2.72256643e-01\n",
            " -9.99330997e-01 -5.68805456e-01 -4.02724952e-01  6.18604541e-01\n",
            "  1.55589372e-01 -4.58715767e-01  7.93202877e-01  3.71707469e-01\n",
            "  1.86153913e+00 -1.52224880e-02  1.42187047e+00 -3.23575288e-01\n",
            " -7.66713858e-01  1.71722457e-01  5.19450605e-01 -1.80891991e+00\n",
            " -1.79117724e-01  2.81740457e-01  2.12254524e-01  1.33945048e-01\n",
            "  1.62765431e+00  2.18771666e-01 -8.14915121e-01 -9.88472402e-01\n",
            "  1.63097382e-01 -1.27378547e+00  3.84041250e-01 -7.75151998e-02\n",
            "  1.06896472e+00  1.03220606e+00  1.23331261e+00 -8.53093803e-01\n",
            "  1.07874528e-01 -1.11756086e+00 -5.15729010e-01  8.30738306e-01]\n"
          ]
        }
      ]
    },
    {
      "cell_type": "code",
      "source": [
        "model = Word2Vec(texts, vector_size=200, window=5, min_count=1, workers=4)"
      ],
      "metadata": {
        "id": "ewrVf-veXsXQ"
      },
      "execution_count": 51,
      "outputs": []
    },
    {
      "cell_type": "code",
      "source": [
        "print(model.wv[\"curry\"])"
      ],
      "metadata": {
        "colab": {
          "base_uri": "https://localhost:8080/"
        },
        "id": "wO2A3tkUXw9a",
        "outputId": "81a9ef3e-c369-4c3a-f6df-2c1b6acb0aec"
      },
      "execution_count": 59,
      "outputs": [
        {
          "output_type": "stream",
          "name": "stdout",
          "text": [
            "[-1.0878067  -0.3236416  -0.05814566  0.1446311  -1.0178087   0.4268766\n",
            " -1.1793089  -0.9362675   0.37704137 -1.4779404  -0.01804658 -0.8182008\n",
            "  1.5469289   2.5495954  -0.47730798 -0.2639038   0.07783403 -0.60044634\n",
            " -0.49250674  1.9402792  -0.8655623   0.67356503 -1.7155589   0.2722115\n",
            " -0.05573567 -1.177295    1.0225369  -2.423658   -1.4431336   0.31330487\n",
            " -0.78146553 -0.01438444  0.12838763  1.4415122  -0.4537686  -1.7587742\n",
            " -0.04680386 -0.6672024   1.6865777   0.5943392   0.6726031  -1.8842379\n",
            " -1.2654563   0.23059618 -0.15933807 -0.28713477 -0.5903098  -0.27936772\n",
            "  0.18362975  0.9608696   0.26586908 -0.11096309 -0.60537654 -0.83676517\n",
            " -0.31753245 -0.80562145 -1.9149194   0.5764652   1.0534041  -1.149551\n",
            "  0.77945817 -0.57174385 -1.5923647  -0.5346818  -0.61411023 -2.642357\n",
            " -0.1376652   0.4664182   1.3833003   0.23085329  0.9266315  -2.301003\n",
            " -1.5491414   1.6676867  -0.37344235  0.86500996 -0.90989     0.92963934\n",
            "  2.384659    0.12916553 -1.4316366  -1.6445267   0.83776593 -0.3126248\n",
            "  1.5258659   0.4181123   0.4582704   1.7712709   2.0768778   0.5927741\n",
            "  0.42753625  0.9804811  -0.75345856 -0.9752005   0.30789095 -2.6992388\n",
            " -0.04761086  2.7119615   0.7987082   2.18709     2.4615333  -0.30335522\n",
            " -0.47838393 -0.10628107 -0.23775128  1.4941145  -0.0210104  -2.0078616\n",
            " -0.8207416   2.1305075  -2.0463946   1.0710921  -2.1341944  -1.8671002\n",
            "  0.08340553  1.040286   -0.5601561  -0.10094006 -1.912241   -0.7491324\n",
            "  0.75165784  0.5228577  -1.5813793  -0.58096313  1.2874702  -0.18066849\n",
            "  1.6638736  -0.33579266 -0.78422326  0.7131523   0.24309418 -1.3901036\n",
            "  1.3022877   1.3448681   0.71867156 -1.0097351   0.43619475 -1.0088013\n",
            "  1.7539772  -0.11377876  0.67574966  0.15927812  0.5614276  -1.4983226\n",
            "  0.28286776 -1.3906304   0.10263747  1.0891336  -0.31277084  0.6143286\n",
            " -0.01679432 -0.5487461  -0.65803033 -0.67358994 -0.1601035   0.29664075\n",
            " -1.3620403   1.3306025   0.30391833 -0.5725284  -0.01700991  1.7476776\n",
            " -0.86261696 -0.5834012  -0.8060708  -1.0611484   0.1706875   0.94905865\n",
            "  0.9536646  -2.1129127  -0.6115828  -0.5528773   0.46266073 -0.59405905\n",
            " -1.9582536   1.1002835   0.02612083 -1.4549904   0.14790154  1.4478754\n",
            "  3.2957287  -4.2328987  -0.8097328   0.6901637  -1.1194099   0.9906643\n",
            " -1.5621713  -1.7301979  -0.61621606 -0.21737392 -2.2013922  -0.0926423\n",
            " -1.0889503   0.33248475 -1.1609106  -2.987828   -1.11109     0.7379364\n",
            "  0.57355773  0.6939069 ]\n"
          ]
        }
      ]
    },
    {
      "cell_type": "code",
      "source": [
        "similar_words = model.wv.most_similar(positive=['paneer', 'masala', 'spice'], topn=10)\n",
        "print(similar_words)"
      ],
      "metadata": {
        "colab": {
          "base_uri": "https://localhost:8080/"
        },
        "id": "wfN2b1OURU_C",
        "outputId": "1d601110-4c45-4d0f-a9de-9c4ea4cd0e7e"
      },
      "execution_count": 58,
      "outputs": [
        {
          "output_type": "stream",
          "name": "stdout",
          "text": [
            "[('masla', 0.5692307353019714), ('powders', 0.4963584244251251), ('masalas', 0.49239787459373474), ('spices', 0.4840790331363678), ('nescafé', 0.4122924506664276), ('including', 0.4072704017162323), ('chicken', 0.3965814709663391), ('matra', 0.39207178354263306), ('amritsar', 0.38368141651153564), ('allspice', 0.3786439001560211)]\n"
          ]
        }
      ]
    }
  ]
}